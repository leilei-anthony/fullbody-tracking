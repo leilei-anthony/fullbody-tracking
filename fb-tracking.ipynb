{
 "cells": [
  {
   "cell_type": "markdown",
   "id": "82e36792",
   "metadata": {},
   "source": [
    "### 0. Install and Import Dependencies"
   ]
  },
  {
   "cell_type": "code",
   "execution_count": null,
   "id": "5df34dec",
   "metadata": {},
   "outputs": [],
   "source": [
    "# conda environment\n",
    "# conda install -c conda-forge opencv\n",
    "# pip install mediapipe\n",
    "\n",
    "# notebook environment\n",
    "# !pip install mediapipe opencv-python"
   ]
  },
  {
   "cell_type": "code",
   "execution_count": null,
   "id": "7e6393f7",
   "metadata": {},
   "outputs": [],
   "source": [
    "import mediapipe as mp\n",
    "import cv2"
   ]
  },
  {
   "cell_type": "code",
   "execution_count": null,
   "id": "0bc9cf97",
   "metadata": {},
   "outputs": [],
   "source": [
    "mp_drawing = mp.solutions.drawing_utils # helping draw detections to the screen\n",
    "mp_holistic = mp.solutions.holistic # importing holistic model"
   ]
  },
  {
   "cell_type": "markdown",
   "id": "f123d63c",
   "metadata": {},
   "source": [
    "### 1. Get Realtime Webcam Feed"
   ]
  },
  {
   "cell_type": "code",
   "execution_count": null,
   "id": "d99fb9fb",
   "metadata": {},
   "outputs": [],
   "source": [
    "cap = cv2.VideoCapture(0) # using webcam as video source\n",
    "while cap.isOpened():\n",
    "    ret, frame = cap.read() # read a frame from the webcam\n",
    "    cv2.imshow('Holistic Model Detection', frame) # show the frame in a window\n",
    "\n",
    "    if cv2.waitKey(10) & 0xFF == ord('q'): # if 'q' is pressed, exit the loop\n",
    "        break\n",
    "\n",
    "cap.release() # release the webcam\n",
    "cv2.destroyAllWindows() # close all OpenCV windows"
   ]
  },
  {
   "cell_type": "markdown",
   "id": "d4d0c2df",
   "metadata": {},
   "source": [
    "### 2. Make Detections from Feed"
   ]
  },
  {
   "cell_type": "code",
   "execution_count": null,
   "id": "82faaf5c",
   "metadata": {},
   "outputs": [],
   "source": [
    "cap = cv2.VideoCapture(0) # using webcam as video source\n",
    "\n",
    "with mp_holistic.Holistic(\n",
    "    min_detection_confidence=0.5,\n",
    "    min_tracking_confidence=0.5) as holistic:\n",
    "\n",
    "\n",
    "    while cap.isOpened():\n",
    "        ret, frame = cap.read() # read a frame from the webcam\n",
    "        \n",
    "        # Recolor Feed\n",
    "        image = cv2.cvtColor(frame, cv2.COLOR_BGR2RGB)\n",
    "\n",
    "        # Make Detections\n",
    "        results = holistic.process(image) # process the frame with the holistic model\n",
    "        print(results.face_landmarks)\n",
    "        # face_landmarks, pose_landmarks, left_hand_landmarks, right_hand_landmarks\n",
    "        \n",
    "        # Recolor image back to BGR for rendering\n",
    "        image = cv2.cvtColor(image, cv2.COLOR_RGB2BGR)\n",
    "\n",
    "        # Face landmarks\n",
    "        mp_drawing.draw_landmarks(image, results.face_landmarks, mp_holistic.FACEMESH_TESSELATION)\n",
    "\n",
    "        # Right hand\n",
    "        mp_drawing.draw_landmarks(image, results.right_hand_landmarks, mp_holistic.HAND_CONNECTIONS)\n",
    "\n",
    "        # Left hand\n",
    "        mp_drawing.draw_landmarks(image, results.left_hand_landmarks, mp_holistic.HAND_CONNECTIONS)\n",
    "\n",
    "        # Pose Detections\n",
    "        mp_drawing.draw_landmarks(image, results.pose_landmarks, mp_holistic.POSE_CONNECTIONS)\n",
    "\n",
    "        cv2.imshow('Holistic Model Detection', image) # show the frame in a window\n",
    "\n",
    "        if cv2.waitKey(10) & 0xFF == ord('q'): # if 'q' is pressed, exit the loop\n",
    "            break\n",
    "\n",
    "cap.release() # release the webcam\n",
    "cv2.destroyAllWindows() # close all OpenCV windows"
   ]
  },
  {
   "cell_type": "markdown",
   "id": "aafdb957",
   "metadata": {},
   "source": [
    "### 3. Apply Styling"
   ]
  },
  {
   "cell_type": "code",
   "execution_count": null,
   "id": "f23c6623",
   "metadata": {},
   "outputs": [],
   "source": [
    "cap = cv2.VideoCapture(0) # using webcam as video source\n",
    "\n",
    "with mp_holistic.Holistic(\n",
    "    min_detection_confidence=0.5,\n",
    "    min_tracking_confidence=0.5) as holistic:\n",
    "\n",
    "\n",
    "    while cap.isOpened():\n",
    "        ret, frame = cap.read() # read a frame from the webcam\n",
    "        \n",
    "        # Recolor Feed\n",
    "        image = cv2.cvtColor(frame, cv2.COLOR_BGR2RGB)\n",
    "\n",
    "        # Make Detections\n",
    "        results = holistic.process(image) # process the frame with the holistic model\n",
    "        print(results.face_landmarks)\n",
    "        # face_landmarks, pose_landmarks, left_hand_landmarks, right_hand_landmarks\n",
    "        \n",
    "        # Recolor image back to BGR for rendering\n",
    "        image = cv2.cvtColor(image, cv2.COLOR_RGB2BGR)\n",
    "\n",
    "        # 1. Face landmarks — Light Blue + Cyan\n",
    "        mp_drawing.draw_landmarks(\n",
    "            image, results.face_landmarks, mp_holistic.FACEMESH_TESSELATION,\n",
    "            mp_drawing.DrawingSpec(color=(255, 0, 0), thickness=1, circle_radius=1),\n",
    "            mp_drawing.DrawingSpec(color=(240, 0, 0), thickness=1, circle_radius=1)\n",
    "        )\n",
    "\n",
    "        # 2. Right hand — Orange + Yellow\n",
    "        mp_drawing.draw_landmarks(\n",
    "            image, results.right_hand_landmarks, mp_holistic.HAND_CONNECTIONS,\n",
    "            mp_drawing.DrawingSpec(color=(0, 255, 0), thickness=1, circle_radius=1),\n",
    "            mp_drawing.DrawingSpec(color=(0, 240, 0), thickness=1, circle_radius=1)\n",
    "        )\n",
    "\n",
    "        # 3. Left hand — Purple + Magenta\n",
    "        mp_drawing.draw_landmarks(\n",
    "            image, results.left_hand_landmarks, mp_holistic.HAND_CONNECTIONS,\n",
    "            mp_drawing.DrawingSpec(color=(0, 255, 0), thickness=1, circle_radius=1),\n",
    "            mp_drawing.DrawingSpec(color=(0, 240, 0), thickness=1, circle_radius=1)\n",
    "        )\n",
    "\n",
    "        # 4. Pose landmarks — Green + Light Green\n",
    "        mp_drawing.draw_landmarks(\n",
    "            image, results.pose_landmarks, mp_holistic.POSE_CONNECTIONS,\n",
    "            mp_drawing.DrawingSpec(color=(0, 0, 255), thickness=1, circle_radius=1),\n",
    "            mp_drawing.DrawingSpec(color=(0, 0, 240), thickness=1, circle_radius=1)\n",
    "        )\n",
    "\n",
    "        cv2.imshow('Holistic Model Detection', image) # show the frame in a window\n",
    "\n",
    "        if cv2.waitKey(10) & 0xFF == ord('q'): # if 'q' is pressed, exit the loop\n",
    "            break\n",
    "\n",
    "cap.release() # release the webcam\n",
    "cv2.destroyAllWindows() # close all OpenCV windows"
   ]
  }
 ],
 "metadata": {
  "kernelspec": {
   "display_name": "fb-tracking",
   "language": "python",
   "name": "python3"
  },
  "language_info": {
   "codemirror_mode": {
    "name": "ipython",
    "version": 3
   },
   "file_extension": ".py",
   "mimetype": "text/x-python",
   "name": "python",
   "nbconvert_exporter": "python",
   "pygments_lexer": "ipython3",
   "version": "3.10.18"
  }
 },
 "nbformat": 4,
 "nbformat_minor": 5
}
